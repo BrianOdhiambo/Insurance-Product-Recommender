{
 "cells": [
  {
   "cell_type": "code",
   "execution_count": 1,
   "metadata": {
    "colab": {
     "base_uri": "https://localhost:8080/",
     "height": 71
    },
    "colab_type": "code",
    "id": "Aa_UxztG0m0B",
    "outputId": "531ff02b-998b-4a2a-f06f-83e614283733"
   },
   "outputs": [
    {
     "name": "stderr",
     "output_type": "stream",
     "text": [
      "/usr/local/lib/python3.6/dist-packages/statsmodels/tools/_testing.py:19: FutureWarning: pandas.util.testing is deprecated. Use the functions in the public API at pandas.testing instead.\n",
      "  import pandas.util.testing as tm\n"
     ]
    }
   ],
   "source": [
    "import pandas as pd, os, gc\n",
    "import numpy as np\n",
    "import math\n",
    "import os\n",
    "import datetime\n",
    "import seaborn as sns\n",
    "import matplotlib.pyplot as plt\n",
    "#import plotly.express as px\n",
    "from sklearn.ensemble import RandomForestClassifier, GradientBoostingClassifier, AdaBoostClassifier\n",
    "import lightgbm as lgb\n",
    "from sklearn.neighbors import KNeighborsClassifier\n",
    "from sklearn.cluster import KMeans\n",
    "from sklearn.preprocessing import LabelEncoder\n",
    "from sklearn.pipeline import Pipeline\n",
    "from sklearn.metrics import roc_curve, auc, log_loss\n",
    "from sklearn.feature_selection import mutual_info_classif\n",
    "from sklearn.preprocessing import StandardScaler, RobustScaler\n",
    "%matplotlib inline\n",
    "import warnings\n",
    "warnings.filterwarnings('ignore')\n",
    "from typing import List "
   ]
  },
  {
   "cell_type": "code",
   "execution_count": 2,
   "metadata": {
    "colab": {
     "base_uri": "https://localhost:8080/",
     "height": 34
    },
    "colab_type": "code",
    "id": "a-8ycsS20uSc",
    "outputId": "486b638f-1ed3-4401-8576-94c20116b1c3"
   },
   "outputs": [
    {
     "name": "stdout",
     "output_type": "stream",
     "text": [
      "Drive already mounted at /content/drive; to attempt to forcibly remount, call drive.mount(\"/content/drive\", force_remount=True).\n"
     ]
    }
   ],
   "source": [
    "from google.colab import drive\n",
    "drive.mount('/content/drive')"
   ]
  },
  {
   "cell_type": "code",
   "execution_count": 3,
   "metadata": {
    "colab": {},
    "colab_type": "code",
    "id": "C3xtzAzB1pEN"
   },
   "outputs": [],
   "source": [
    "path = '/content/drive/My Drive/10Acad/Train.csv'\n",
    "path_test = '/content/drive/My Drive/10Acad/Test.csv'"
   ]
  },
  {
   "cell_type": "code",
   "execution_count": 4,
   "metadata": {
    "colab": {},
    "colab_type": "code",
    "id": "raglblfN0m0G"
   },
   "outputs": [],
   "source": [
    "'''path = \"../data/\"\n",
    "trains='Train.csv'\n",
    "tests='Test.csv'''\n",
    "    \n",
    "train =pd.read_csv(path, parse_dates=['join_date'])\n",
    "test = pd.read_csv(path_test, parse_dates=['join_date'])\n",
    "    \n",
    "    \n",
    "#Store Products ID in Multidimensional array\n",
    "products =train[['P5DA', 'RIBP', '8NN1',\n",
    "       '7POT', '66FJ', 'GYSR', 'SOP4', 'RVSZ', 'PYUQ', 'LJR9', 'N2MW', 'AHXO',\n",
    "       'BSTQ', 'FM3X', 'K6QO', 'QBOL', 'JWFN', 'JZ9D', 'J9JW', 'GHYX', 'ECY3']]\n",
    "products_t =test[['P5DA', 'RIBP', '8NN1',\n",
    "       '7POT', '66FJ', 'GYSR', 'SOP4', 'RVSZ', 'PYUQ', 'LJR9', 'N2MW', 'AHXO',\n",
    "       'BSTQ', 'FM3X', 'K6QO', 'QBOL', 'JWFN', 'JZ9D', 'J9JW', 'GHYX', 'ECY3']]\n",
    "    \n",
    "train = train.melt(id_vars=train.columns[:8], value_vars=products, var_name = \"PCODE\", value_name=\"Label\" )\n",
    "test = test.melt(id_vars=test.columns[:8], value_vars=products_t, var_name = \"PCODE\", value_name=\"Label\" )\n",
    "    \n",
    "    #Concatenate new column towards submission requirement\n",
    "train['ID X PCODE'] = train['ID'] + ' X ' + train['PCODE']\n",
    "test['ID X PCODE'] = test['ID'] + ' X ' + test['PCODE']\n",
    "test.drop('Label', inplace=True, axis=1) "
   ]
  },
  {
   "cell_type": "code",
   "execution_count": 5,
   "metadata": {
    "colab": {
     "base_uri": "https://localhost:8080/",
     "height": 51
    },
    "colab_type": "code",
    "id": "yKpIRKc6u50Q",
    "outputId": "32fc5912-9d5e-4ebb-84a8-fd8c8c966f20"
   },
   "outputs": [
    {
     "name": "stdout",
     "output_type": "stream",
     "text": [
      "233\n",
      "187\n"
     ]
    }
   ],
   "source": [
    "print(train['occupation_code'].nunique())\n",
    "print(test['occupation_code'].nunique())"
   ]
  },
  {
   "cell_type": "code",
   "execution_count": 6,
   "metadata": {
    "colab": {
     "base_uri": "https://localhost:8080/",
     "height": 258
    },
    "colab_type": "code",
    "id": "0whzsB8J0m0K",
    "outputId": "6238a78a-48ac-4184-ab11-0356d926ee04"
   },
   "outputs": [
    {
     "data": {
      "text/html": [
       "<div>\n",
       "<style scoped>\n",
       "    .dataframe tbody tr th:only-of-type {\n",
       "        vertical-align: middle;\n",
       "    }\n",
       "\n",
       "    .dataframe tbody tr th {\n",
       "        vertical-align: top;\n",
       "    }\n",
       "\n",
       "    .dataframe thead th {\n",
       "        text-align: right;\n",
       "    }\n",
       "</style>\n",
       "<table border=\"1\" class=\"dataframe\">\n",
       "  <thead>\n",
       "    <tr style=\"text-align: right;\">\n",
       "      <th></th>\n",
       "      <th>ID</th>\n",
       "      <th>join_date</th>\n",
       "      <th>sex</th>\n",
       "      <th>marital_status</th>\n",
       "      <th>birth_year</th>\n",
       "      <th>branch_code</th>\n",
       "      <th>occupation_code</th>\n",
       "      <th>occupation_category_code</th>\n",
       "      <th>PCODE</th>\n",
       "      <th>Label</th>\n",
       "      <th>ID X PCODE</th>\n",
       "    </tr>\n",
       "  </thead>\n",
       "  <tbody>\n",
       "    <tr>\n",
       "      <th>103840</th>\n",
       "      <td>RVN6KW6</td>\n",
       "      <td>2017-01-10</td>\n",
       "      <td>F</td>\n",
       "      <td>S</td>\n",
       "      <td>1984</td>\n",
       "      <td>748L</td>\n",
       "      <td>P4MD</td>\n",
       "      <td>90QI</td>\n",
       "      <td>7POT</td>\n",
       "      <td>0</td>\n",
       "      <td>RVN6KW6 X 7POT</td>\n",
       "    </tr>\n",
       "    <tr>\n",
       "      <th>607968</th>\n",
       "      <td>CT9EE8P</td>\n",
       "      <td>2015-01-04</td>\n",
       "      <td>M</td>\n",
       "      <td>M</td>\n",
       "      <td>1976</td>\n",
       "      <td>748L</td>\n",
       "      <td>BP09</td>\n",
       "      <td>56SI</td>\n",
       "      <td>ECY3</td>\n",
       "      <td>0</td>\n",
       "      <td>CT9EE8P X ECY3</td>\n",
       "    </tr>\n",
       "    <tr>\n",
       "      <th>312683</th>\n",
       "      <td>D0J0I84</td>\n",
       "      <td>2018-01-06</td>\n",
       "      <td>F</td>\n",
       "      <td>M</td>\n",
       "      <td>1980</td>\n",
       "      <td>30H5</td>\n",
       "      <td>0KID</td>\n",
       "      <td>T4MS</td>\n",
       "      <td>N2MW</td>\n",
       "      <td>0</td>\n",
       "      <td>D0J0I84 X N2MW</td>\n",
       "    </tr>\n",
       "    <tr>\n",
       "      <th>197606</th>\n",
       "      <td>82SO3AC</td>\n",
       "      <td>2020-01-01</td>\n",
       "      <td>F</td>\n",
       "      <td>S</td>\n",
       "      <td>1964</td>\n",
       "      <td>30H5</td>\n",
       "      <td>UBBX</td>\n",
       "      <td>T4MS</td>\n",
       "      <td>SOP4</td>\n",
       "      <td>0</td>\n",
       "      <td>82SO3AC X SOP4</td>\n",
       "    </tr>\n",
       "  </tbody>\n",
       "</table>\n",
       "</div>"
      ],
      "text/plain": [
       "             ID  join_date sex  ... PCODE  Label      ID X PCODE\n",
       "103840  RVN6KW6 2017-01-10   F  ...  7POT      0  RVN6KW6 X 7POT\n",
       "607968  CT9EE8P 2015-01-04   M  ...  ECY3      0  CT9EE8P X ECY3\n",
       "312683  D0J0I84 2018-01-06   F  ...  N2MW      0  D0J0I84 X N2MW\n",
       "197606  82SO3AC 2020-01-01   F  ...  SOP4      0  82SO3AC X SOP4\n",
       "\n",
       "[4 rows x 11 columns]"
      ]
     },
     "execution_count": 6,
     "metadata": {
      "tags": []
     },
     "output_type": "execute_result"
    }
   ],
   "source": [
    "train.sample(4)"
   ]
  },
  {
   "cell_type": "code",
   "execution_count": 7,
   "metadata": {
    "colab": {
     "base_uri": "https://localhost:8080/",
     "height": 173
    },
    "colab_type": "code",
    "id": "34giZxfh0m0Q",
    "outputId": "f4238bac-43d0-4f7e-ba6e-1f358943bbef"
   },
   "outputs": [
    {
     "data": {
      "text/html": [
       "<div>\n",
       "<style scoped>\n",
       "    .dataframe tbody tr th:only-of-type {\n",
       "        vertical-align: middle;\n",
       "    }\n",
       "\n",
       "    .dataframe tbody tr th {\n",
       "        vertical-align: top;\n",
       "    }\n",
       "\n",
       "    .dataframe thead th {\n",
       "        text-align: right;\n",
       "    }\n",
       "</style>\n",
       "<table border=\"1\" class=\"dataframe\">\n",
       "  <thead>\n",
       "    <tr style=\"text-align: right;\">\n",
       "      <th></th>\n",
       "      <th>ID</th>\n",
       "      <th>join_date</th>\n",
       "      <th>sex</th>\n",
       "      <th>marital_status</th>\n",
       "      <th>birth_year</th>\n",
       "      <th>branch_code</th>\n",
       "      <th>occupation_code</th>\n",
       "      <th>occupation_category_code</th>\n",
       "      <th>PCODE</th>\n",
       "      <th>ID X PCODE</th>\n",
       "    </tr>\n",
       "  </thead>\n",
       "  <tbody>\n",
       "    <tr>\n",
       "      <th>98826</th>\n",
       "      <td>6MCA3VC</td>\n",
       "      <td>2019-01-05</td>\n",
       "      <td>M</td>\n",
       "      <td>M</td>\n",
       "      <td>1983</td>\n",
       "      <td>94KC</td>\n",
       "      <td>2A7I</td>\n",
       "      <td>T4MS</td>\n",
       "      <td>LJR9</td>\n",
       "      <td>6MCA3VC X LJR9</td>\n",
       "    </tr>\n",
       "    <tr>\n",
       "      <th>82706</th>\n",
       "      <td>F9DGVKT</td>\n",
       "      <td>2017-01-07</td>\n",
       "      <td>M</td>\n",
       "      <td>M</td>\n",
       "      <td>1964</td>\n",
       "      <td>748L</td>\n",
       "      <td>SST3</td>\n",
       "      <td>56SI</td>\n",
       "      <td>PYUQ</td>\n",
       "      <td>F9DGVKT X PYUQ</td>\n",
       "    </tr>\n",
       "    <tr>\n",
       "      <th>203219</th>\n",
       "      <td>QAJCB6K</td>\n",
       "      <td>2015-01-01</td>\n",
       "      <td>F</td>\n",
       "      <td>M</td>\n",
       "      <td>1982</td>\n",
       "      <td>748L</td>\n",
       "      <td>0B60</td>\n",
       "      <td>JD7X</td>\n",
       "      <td>ECY3</td>\n",
       "      <td>QAJCB6K X ECY3</td>\n",
       "    </tr>\n",
       "    <tr>\n",
       "      <th>101890</th>\n",
       "      <td>A12OH6X</td>\n",
       "      <td>2019-01-07</td>\n",
       "      <td>M</td>\n",
       "      <td>M</td>\n",
       "      <td>1968</td>\n",
       "      <td>94KC</td>\n",
       "      <td>S9KU</td>\n",
       "      <td>90QI</td>\n",
       "      <td>N2MW</td>\n",
       "      <td>A12OH6X X N2MW</td>\n",
       "    </tr>\n",
       "  </tbody>\n",
       "</table>\n",
       "</div>"
      ],
      "text/plain": [
       "             ID  join_date sex  ... occupation_category_code  PCODE      ID X PCODE\n",
       "98826   6MCA3VC 2019-01-05   M  ...                     T4MS   LJR9  6MCA3VC X LJR9\n",
       "82706   F9DGVKT 2017-01-07   M  ...                     56SI   PYUQ  F9DGVKT X PYUQ\n",
       "203219  QAJCB6K 2015-01-01   F  ...                     JD7X   ECY3  QAJCB6K X ECY3\n",
       "101890  A12OH6X 2019-01-07   M  ...                     90QI   N2MW  A12OH6X X N2MW\n",
       "\n",
       "[4 rows x 10 columns]"
      ]
     },
     "execution_count": 7,
     "metadata": {
      "tags": []
     },
     "output_type": "execute_result"
    }
   ],
   "source": [
    "test.sample(4)"
   ]
  },
  {
   "cell_type": "code",
   "execution_count": 8,
   "metadata": {
    "colab": {
     "base_uri": "https://localhost:8080/",
     "height": 323
    },
    "colab_type": "code",
    "id": "4HPyWmXJ0m0W",
    "outputId": "978909b2-8246-46d9-b313-dc77a33b0042"
   },
   "outputs": [
    {
     "name": "stdout",
     "output_type": "stream",
     "text": [
      "<class 'pandas.core.frame.DataFrame'>\n",
      "RangeIndex: 611772 entries, 0 to 611771\n",
      "Data columns (total 11 columns):\n",
      " #   Column                    Non-Null Count   Dtype         \n",
      "---  ------                    --------------   -----         \n",
      " 0   ID                        611772 non-null  object        \n",
      " 1   join_date                 611730 non-null  datetime64[ns]\n",
      " 2   sex                       611772 non-null  object        \n",
      " 3   marital_status            611772 non-null  object        \n",
      " 4   birth_year                611772 non-null  int64         \n",
      " 5   branch_code               611772 non-null  object        \n",
      " 6   occupation_code           611772 non-null  object        \n",
      " 7   occupation_category_code  611772 non-null  object        \n",
      " 8   PCODE                     611772 non-null  object        \n",
      " 9   Label                     611772 non-null  int64         \n",
      " 10  ID X PCODE                611772 non-null  object        \n",
      "dtypes: datetime64[ns](1), int64(2), object(8)\n",
      "memory usage: 51.3+ MB\n"
     ]
    }
   ],
   "source": [
    "train.info()"
   ]
  },
  {
   "cell_type": "code",
   "execution_count": 9,
   "metadata": {
    "colab": {},
    "colab_type": "code",
    "id": "zq8W98fK0m0b"
   },
   "outputs": [],
   "source": [
    "#train['join_date'].value_counts()"
   ]
  },
  {
   "cell_type": "code",
   "execution_count": 10,
   "metadata": {
    "colab": {},
    "colab_type": "code",
    "id": "Cpiv6FGA0m0e"
   },
   "outputs": [],
   "source": [
    "#test['join_date'].value_counts()"
   ]
  },
  {
   "cell_type": "code",
   "execution_count": 11,
   "metadata": {
    "colab": {},
    "colab_type": "code",
    "id": "a38VgWYs0m0i"
   },
   "outputs": [],
   "source": [
    "#test.info()"
   ]
  },
  {
   "cell_type": "code",
   "execution_count": 12,
   "metadata": {
    "colab": {},
    "colab_type": "code",
    "id": "r_uNrbJs0m0r"
   },
   "outputs": [],
   "source": [
    "train.fillna('2018-01-05', inplace=True)"
   ]
  },
  {
   "cell_type": "code",
   "execution_count": 13,
   "metadata": {
    "colab": {
     "base_uri": "https://localhost:8080/",
     "height": 221
    },
    "colab_type": "code",
    "id": "RXJZfDm40m0u",
    "outputId": "b95bd36d-9e4e-4b14-c1d9-9a632f1afacf"
   },
   "outputs": [
    {
     "data": {
      "text/plain": [
       "ID                          0\n",
       "join_date                   0\n",
       "sex                         0\n",
       "marital_status              0\n",
       "birth_year                  0\n",
       "branch_code                 0\n",
       "occupation_code             0\n",
       "occupation_category_code    0\n",
       "PCODE                       0\n",
       "Label                       0\n",
       "ID X PCODE                  0\n",
       "dtype: int64"
      ]
     },
     "execution_count": 13,
     "metadata": {
      "tags": []
     },
     "output_type": "execute_result"
    }
   ],
   "source": [
    "train.isnull().sum()"
   ]
  },
  {
   "cell_type": "code",
   "execution_count": 14,
   "metadata": {
    "colab": {},
    "colab_type": "code",
    "id": "rke0AkNs0m0x"
   },
   "outputs": [],
   "source": [
    "test.fillna('2018-01-05', inplace=True)"
   ]
  },
  {
   "cell_type": "code",
   "execution_count": 15,
   "metadata": {
    "colab": {},
    "colab_type": "code",
    "id": "rupA9aaM0m1J"
   },
   "outputs": [],
   "source": [
    "#Computing the duration  of the client in the insurance company\n",
    "#converting the 'Date' column  to date formate\n",
    "train[\"join_date\"] = pd.to_datetime(train[\"join_date\"],format = \"%Y-%m-%d\")\n",
    "test[\"join_date\"] = pd.to_datetime(test[\"join_date\"],format = \"%Y-%m-%d\")\n",
    "today = datetime.date.today()\n",
    "    \n",
    "train[\"duration\"] = today.year - train[\"join_date\"].dt.year\n",
    "#Computing the age  of the client\n",
    "train[\"age\"] = today.year - train[\"birth_year\"]\n",
    "\n",
    "test[\"duration\"] = today.year - test[\"join_date\"].dt.year\n",
    "#Computing the age  of the client\n",
    "test[\"age\"] = today.year - test[\"birth_year\"]"
   ]
  },
  {
   "cell_type": "code",
   "execution_count": 16,
   "metadata": {
    "colab": {
     "base_uri": "https://localhost:8080/",
     "height": 51
    },
    "colab_type": "code",
    "id": "dKZhPBWL0m1N",
    "outputId": "93b5b722-3a10-46b0-b8bc-a4a0167127ad"
   },
   "outputs": [
    {
     "name": "stdout",
     "output_type": "stream",
     "text": [
      "(611772, 13)\n",
      "(210000, 12)\n"
     ]
    }
   ],
   "source": [
    "print(train.shape)\n",
    "print(test.shape)"
   ]
  },
  {
   "cell_type": "code",
   "execution_count": 17,
   "metadata": {
    "colab": {},
    "colab_type": "code",
    "id": "_AXIY6Ba0m1R"
   },
   "outputs": [],
   "source": [
    "from sklearn import preprocessing\n",
    "le = preprocessing.LabelEncoder()\n",
    "\n",
    "\n",
    "'''# Convert the following numerical labels from integer to float\n",
    "train[[\"age\", \"duration\",\"birth_year\"]].values.astype(float)\n",
    "test[[\"age\", \"duration\",\"birth_year\"]].values.astype(float)\n",
    "    \n",
    "# categorical features to be onverted to One Hot Encoding\n",
    "cat_cols = ['branch_code', 'occupation_code','occupation_category_code','marital_status']\n",
    "    \n",
    "# One Hot Encoding conversion\n",
    "train = pd.get_dummies(train, columns=cat_cols)\n",
    "test = pd.get_dummies(test, columns=cat_cols)\n",
    "    \n",
    "# Label Encoder conversion\n",
    "train[\"sex\"] = le.fit_transform(train[\"sex\"])\n",
    "train[\"PCODE\"] = le.fit_transform(train[\"PCODE\"])\n",
    "train[\"ID\"] = le.fit_transform(train[\"ID\"])\n",
    "\n",
    "test[\"sex\"] = le.fit_transform(test[\"sex\"])\n",
    "test[\"PCODE\"] = le.fit_transform(test[\"PCODE\"])\n",
    "test[\"ID\"] = le.fit_transform(test[\"ID\"])'''\n",
    "\n",
    "\n",
    "#Selecting the columns for label encoding.\n",
    "categorical_columns = ['ID','branch_code', 'occupation_code','occupation_category_code','PCODE','sex','marital_status']\n",
    "#import preprocessing module\n",
    "from sklearn.preprocessing import LabelEncoder\n",
    "\n",
    "#le = LabelEncoder()\n",
    "\n",
    "#Label Encoding for object to numeric conversion;train_data\n",
    "for feat in categorical_columns:\n",
    "    train[feat] = le.fit_transform(train[feat].astype(str))\n",
    "    \n",
    "#Label Encoding for object to numeric conversion;test_data\n",
    "for feat in categorical_columns:\n",
    "    test[feat] = le.fit_transform(test[feat].astype(str))"
   ]
  },
  {
   "cell_type": "code",
   "execution_count": 18,
   "metadata": {
    "colab": {},
    "colab_type": "code",
    "id": "_TSs0s250m1V"
   },
   "outputs": [],
   "source": [
    "scaler = StandardScaler()\n",
    "cols = ['age', 'duration', 'birth_year']\n",
    "train[cols] = scaler.fit_transform(train[cols])\n",
    "test[cols] = scaler.fit_transform(test[cols])"
   ]
  },
  {
   "cell_type": "code",
   "execution_count": 19,
   "metadata": {
    "colab": {
     "base_uri": "https://localhost:8080/",
     "height": 326
    },
    "colab_type": "code",
    "id": "8PhMR8iA0m1Z",
    "outputId": "a6939093-78aa-4d8f-b470-629f538c08a9"
   },
   "outputs": [
    {
     "data": {
      "text/html": [
       "<div>\n",
       "<style scoped>\n",
       "    .dataframe tbody tr th:only-of-type {\n",
       "        vertical-align: middle;\n",
       "    }\n",
       "\n",
       "    .dataframe tbody tr th {\n",
       "        vertical-align: top;\n",
       "    }\n",
       "\n",
       "    .dataframe thead th {\n",
       "        text-align: right;\n",
       "    }\n",
       "</style>\n",
       "<table border=\"1\" class=\"dataframe\">\n",
       "  <thead>\n",
       "    <tr style=\"text-align: right;\">\n",
       "      <th></th>\n",
       "      <th>ID</th>\n",
       "      <th>join_date</th>\n",
       "      <th>sex</th>\n",
       "      <th>marital_status</th>\n",
       "      <th>birth_year</th>\n",
       "      <th>branch_code</th>\n",
       "      <th>occupation_code</th>\n",
       "      <th>occupation_category_code</th>\n",
       "      <th>PCODE</th>\n",
       "      <th>Label</th>\n",
       "      <th>ID X PCODE</th>\n",
       "      <th>duration</th>\n",
       "      <th>age</th>\n",
       "    </tr>\n",
       "  </thead>\n",
       "  <tbody>\n",
       "    <tr>\n",
       "      <th>0</th>\n",
       "      <td>3999</td>\n",
       "      <td>2019-01-02</td>\n",
       "      <td>0</td>\n",
       "      <td>1</td>\n",
       "      <td>0.802422</td>\n",
       "      <td>0</td>\n",
       "      <td>17</td>\n",
       "      <td>5</td>\n",
       "      <td>15</td>\n",
       "      <td>0</td>\n",
       "      <td>4WKQSBB X P5DA</td>\n",
       "      <td>-0.668801</td>\n",
       "      <td>-0.802422</td>\n",
       "    </tr>\n",
       "    <tr>\n",
       "      <th>1</th>\n",
       "      <td>10274</td>\n",
       "      <td>2019-01-06</td>\n",
       "      <td>0</td>\n",
       "      <td>1</td>\n",
       "      <td>0.159021</td>\n",
       "      <td>11</td>\n",
       "      <td>17</td>\n",
       "      <td>5</td>\n",
       "      <td>15</td>\n",
       "      <td>0</td>\n",
       "      <td>CP5S02H X P5DA</td>\n",
       "      <td>-0.668801</td>\n",
       "      <td>-0.159021</td>\n",
       "    </tr>\n",
       "    <tr>\n",
       "      <th>2</th>\n",
       "      <td>2388</td>\n",
       "      <td>2013-01-06</td>\n",
       "      <td>1</td>\n",
       "      <td>5</td>\n",
       "      <td>1.231356</td>\n",
       "      <td>3</td>\n",
       "      <td>176</td>\n",
       "      <td>1</td>\n",
       "      <td>15</td>\n",
       "      <td>0</td>\n",
       "      <td>2YKDILJ X P5DA</td>\n",
       "      <td>2.465359</td>\n",
       "      <td>-1.231356</td>\n",
       "    </tr>\n",
       "    <tr>\n",
       "      <th>3</th>\n",
       "      <td>2233</td>\n",
       "      <td>2019-01-08</td>\n",
       "      <td>1</td>\n",
       "      <td>1</td>\n",
       "      <td>1.124122</td>\n",
       "      <td>0</td>\n",
       "      <td>76</td>\n",
       "      <td>0</td>\n",
       "      <td>15</td>\n",
       "      <td>0</td>\n",
       "      <td>2S9E81J X P5DA</td>\n",
       "      <td>-0.668801</td>\n",
       "      <td>-1.124122</td>\n",
       "    </tr>\n",
       "    <tr>\n",
       "      <th>4</th>\n",
       "      <td>9326</td>\n",
       "      <td>2019-01-08</td>\n",
       "      <td>1</td>\n",
       "      <td>1</td>\n",
       "      <td>1.124122</td>\n",
       "      <td>3</td>\n",
       "      <td>148</td>\n",
       "      <td>5</td>\n",
       "      <td>15</td>\n",
       "      <td>0</td>\n",
       "      <td>BHDYVFT X P5DA</td>\n",
       "      <td>-0.668801</td>\n",
       "      <td>-1.124122</td>\n",
       "    </tr>\n",
       "  </tbody>\n",
       "</table>\n",
       "</div>"
      ],
      "text/plain": [
       "      ID  join_date  sex  ...      ID X PCODE  duration       age\n",
       "0   3999 2019-01-02    0  ...  4WKQSBB X P5DA -0.668801 -0.802422\n",
       "1  10274 2019-01-06    0  ...  CP5S02H X P5DA -0.668801 -0.159021\n",
       "2   2388 2013-01-06    1  ...  2YKDILJ X P5DA  2.465359 -1.231356\n",
       "3   2233 2019-01-08    1  ...  2S9E81J X P5DA -0.668801 -1.124122\n",
       "4   9326 2019-01-08    1  ...  BHDYVFT X P5DA -0.668801 -1.124122\n",
       "\n",
       "[5 rows x 13 columns]"
      ]
     },
     "execution_count": 19,
     "metadata": {
      "tags": []
     },
     "output_type": "execute_result"
    }
   ],
   "source": [
    "train.head()"
   ]
  },
  {
   "cell_type": "code",
   "execution_count": 20,
   "metadata": {
    "colab": {
     "base_uri": "https://localhost:8080/",
     "height": 326
    },
    "colab_type": "code",
    "id": "DVaszGj80m1c",
    "outputId": "512ad9e0-717a-417c-970d-5da781105c8d"
   },
   "outputs": [
    {
     "data": {
      "text/html": [
       "<div>\n",
       "<style scoped>\n",
       "    .dataframe tbody tr th:only-of-type {\n",
       "        vertical-align: middle;\n",
       "    }\n",
       "\n",
       "    .dataframe tbody tr th {\n",
       "        vertical-align: top;\n",
       "    }\n",
       "\n",
       "    .dataframe thead th {\n",
       "        text-align: right;\n",
       "    }\n",
       "</style>\n",
       "<table border=\"1\" class=\"dataframe\">\n",
       "  <thead>\n",
       "    <tr style=\"text-align: right;\">\n",
       "      <th></th>\n",
       "      <th>ID</th>\n",
       "      <th>join_date</th>\n",
       "      <th>sex</th>\n",
       "      <th>marital_status</th>\n",
       "      <th>birth_year</th>\n",
       "      <th>branch_code</th>\n",
       "      <th>occupation_code</th>\n",
       "      <th>occupation_category_code</th>\n",
       "      <th>PCODE</th>\n",
       "      <th>ID X PCODE</th>\n",
       "      <th>duration</th>\n",
       "      <th>age</th>\n",
       "    </tr>\n",
       "  </thead>\n",
       "  <tbody>\n",
       "    <tr>\n",
       "      <th>0</th>\n",
       "      <td>4257</td>\n",
       "      <td>2018-01-12</td>\n",
       "      <td>1</td>\n",
       "      <td>2</td>\n",
       "      <td>0.463010</td>\n",
       "      <td>4</td>\n",
       "      <td>79</td>\n",
       "      <td>1</td>\n",
       "      <td>15</td>\n",
       "      <td>F86J5PC X P5DA</td>\n",
       "      <td>-0.146502</td>\n",
       "      <td>-0.463010</td>\n",
       "    </tr>\n",
       "    <tr>\n",
       "      <th>1</th>\n",
       "      <td>4834</td>\n",
       "      <td>2019-01-10</td>\n",
       "      <td>1</td>\n",
       "      <td>2</td>\n",
       "      <td>1.751982</td>\n",
       "      <td>0</td>\n",
       "      <td>103</td>\n",
       "      <td>1</td>\n",
       "      <td>15</td>\n",
       "      <td>H6141K3 X P5DA</td>\n",
       "      <td>-0.664178</td>\n",
       "      <td>-1.751982</td>\n",
       "    </tr>\n",
       "    <tr>\n",
       "      <th>2</th>\n",
       "      <td>7655</td>\n",
       "      <td>2020-01-01</td>\n",
       "      <td>0</td>\n",
       "      <td>7</td>\n",
       "      <td>-1.255620</td>\n",
       "      <td>11</td>\n",
       "      <td>18</td>\n",
       "      <td>5</td>\n",
       "      <td>15</td>\n",
       "      <td>RBAYUXZ X P5DA</td>\n",
       "      <td>-1.181853</td>\n",
       "      <td>1.255620</td>\n",
       "    </tr>\n",
       "    <tr>\n",
       "      <th>3</th>\n",
       "      <td>5729</td>\n",
       "      <td>2019-01-02</td>\n",
       "      <td>1</td>\n",
       "      <td>2</td>\n",
       "      <td>1.000081</td>\n",
       "      <td>4</td>\n",
       "      <td>18</td>\n",
       "      <td>5</td>\n",
       "      <td>15</td>\n",
       "      <td>KCBILBQ X P5DA</td>\n",
       "      <td>-0.664178</td>\n",
       "      <td>-1.000081</td>\n",
       "    </tr>\n",
       "    <tr>\n",
       "      <th>4</th>\n",
       "      <td>6141</td>\n",
       "      <td>2020-01-02</td>\n",
       "      <td>0</td>\n",
       "      <td>2</td>\n",
       "      <td>0.248181</td>\n",
       "      <td>11</td>\n",
       "      <td>3</td>\n",
       "      <td>5</td>\n",
       "      <td>15</td>\n",
       "      <td>LSEC1ZJ X P5DA</td>\n",
       "      <td>-1.181853</td>\n",
       "      <td>-0.248181</td>\n",
       "    </tr>\n",
       "  </tbody>\n",
       "</table>\n",
       "</div>"
      ],
      "text/plain": [
       "     ID  join_date  sex  ...      ID X PCODE  duration       age\n",
       "0  4257 2018-01-12    1  ...  F86J5PC X P5DA -0.146502 -0.463010\n",
       "1  4834 2019-01-10    1  ...  H6141K3 X P5DA -0.664178 -1.751982\n",
       "2  7655 2020-01-01    0  ...  RBAYUXZ X P5DA -1.181853  1.255620\n",
       "3  5729 2019-01-02    1  ...  KCBILBQ X P5DA -0.664178 -1.000081\n",
       "4  6141 2020-01-02    0  ...  LSEC1ZJ X P5DA -1.181853 -0.248181\n",
       "\n",
       "[5 rows x 12 columns]"
      ]
     },
     "execution_count": 20,
     "metadata": {
      "tags": []
     },
     "output_type": "execute_result"
    }
   ],
   "source": [
    "test.head()"
   ]
  },
  {
   "cell_type": "code",
   "execution_count": 21,
   "metadata": {
    "colab": {
     "base_uri": "https://localhost:8080/",
     "height": 51
    },
    "colab_type": "code",
    "id": "FCz3GMig0m1f",
    "outputId": "70ca2120-146c-4565-963f-42a5000889b1"
   },
   "outputs": [
    {
     "name": "stdout",
     "output_type": "stream",
     "text": [
      "(611772, 13)\n",
      "(210000, 12)\n"
     ]
    }
   ],
   "source": [
    "print(train.shape)\n",
    "print(test.shape)"
   ]
  },
  {
   "cell_type": "code",
   "execution_count": 22,
   "metadata": {
    "colab": {},
    "colab_type": "code",
    "id": "FnvIt4NZ0m1i"
   },
   "outputs": [],
   "source": [
    "X = train.drop(columns=['join_date', 'ID X PCODE', 'Label'])\n",
    "y = train['Label']\n",
    "sampled_test = test.drop(columns=['join_date', 'ID X PCODE'])"
   ]
  },
  {
   "cell_type": "code",
   "execution_count": 23,
   "metadata": {
    "colab": {
     "base_uri": "https://localhost:8080/",
     "height": 52
    },
    "colab_type": "code",
    "id": "Ce6MuOmNpH82",
    "outputId": "645cb642-687c-458e-a693-8c00cc717866"
   },
   "outputs": [
    {
     "data": {
      "application/vnd.google.colaboratory.intrinsic+json": {
       "type": "string"
      },
      "text/plain": [
       "'from sklearn.model_selection import train_test_split\\nX_train,X_test,y_train,y_test=train_test_split(X,y,test_size=0.3,random_state=123)'"
      ]
     },
     "execution_count": 23,
     "metadata": {
      "tags": []
     },
     "output_type": "execute_result"
    }
   ],
   "source": [
    "'''from sklearn.model_selection import train_test_split\n",
    "X_train,X_test,y_train,y_test=train_test_split(X,y,test_size=0.3,random_state=123)'''"
   ]
  },
  {
   "cell_type": "code",
   "execution_count": 24,
   "metadata": {
    "colab": {},
    "colab_type": "code",
    "id": "Idyqla3jB0Ql"
   },
   "outputs": [],
   "source": [
    "from sklearn.model_selection import StratifiedKFold\n",
    "cv = StratifiedKFold(n_splits = 10, shuffle = True, random_state = 4)\n",
    "\n",
    "\n",
    "for train_index,test_index in cv.split(X,y):\n",
    "    X_train,X_test = X.loc[train_index],X.loc[test_index]\n",
    "    y_train,y_test = y.loc[train_index],y.loc[test_index]"
   ]
  },
  {
   "cell_type": "code",
   "execution_count": null,
   "metadata": {
    "colab": {},
    "colab_type": "code",
    "id": "EeRdYfZ6Rr1b"
   },
   "outputs": [],
   "source": [
    "### hyperparameter Tuning \n"
   ]
  },
  {
   "cell_type": "code",
   "execution_count": 25,
   "metadata": {
    "colab": {},
    "colab_type": "code",
    "id": "COHmtjEN0m1v"
   },
   "outputs": [],
   "source": [
    "from xgboost import XGBClassifier\n",
    "from sklearn.metrics import accuracy_score, confusion_matrix, precision_score, recall_score, classification_report\n",
    "from sklearn.model_selection import GridSearchCV\n",
    "\n",
    "clf = lgb.LGBMClassifier()\n",
    "\n",
    "scores = []\n",
    "# Fit the model on the training data\n",
    "model = clf.fit(X_train, y_train)\n",
    "y_pred = model.predict(X_test)\n",
    "\n",
    "# Score the model on the validation data\n",
    "score = accuracy_score(y_test, y_pred)\n",
    "report = classification_report(y_test, y_pred)\n",
    "conf_matrix = confusion_matrix(y_test, y_pred)\n",
    "        \n",
    "scores.append(score)\n",
    "mean_score = np.array(scores).mean()"
   ]
  },
  {
   "cell_type": "code",
   "execution_count": 26,
   "metadata": {
    "colab": {
     "base_uri": "https://localhost:8080/",
     "height": 323
    },
    "colab_type": "code",
    "id": "cLEZQsMn0m1y",
    "outputId": "c63ac660-d12d-42a2-e40a-8b18b161d8d1"
   },
   "outputs": [
    {
     "name": "stdout",
     "output_type": "stream",
     "text": [
      "Accuracy scores of the model: 0.96\n",
      "\n",
      " Classification report of the model\n",
      "--------------------------------------\n",
      "              precision    recall  f1-score   support\n",
      "\n",
      "           0       0.97      0.99      0.98     54541\n",
      "           1       0.87      0.75      0.81      6636\n",
      "\n",
      "    accuracy                           0.96     61177\n",
      "   macro avg       0.92      0.87      0.89     61177\n",
      "weighted avg       0.96      0.96      0.96     61177\n",
      "\n",
      "\n",
      " Confusion Matrix of the model\n",
      "--------------------------------------\n",
      "[[53802   739]\n",
      " [ 1633  5003]]\n"
     ]
    }
   ],
   "source": [
    "print('Accuracy scores of the model: {:.2f}'.format(mean_score))\n",
    "print('\\n Classification report of the model')\n",
    "print('--------------------------------------')\n",
    "print(report)\n",
    "print('\\n Confusion Matrix of the model')\n",
    "print('--------------------------------------')\n",
    "print(conf_matrix)"
   ]
  },
  {
   "cell_type": "code",
   "execution_count": 27,
   "metadata": {
    "colab": {
     "base_uri": "https://localhost:8080/",
     "height": 136
    },
    "colab_type": "code",
    "id": "1mlSOlgi0m11",
    "outputId": "2bec3572-59e1-4fe2-eba9-3802fdc7b65f"
   },
   "outputs": [
    {
     "name": "stdout",
     "output_type": "stream",
     "text": [
      "Pred_0: ID X PCODE    190973\n",
      "Label         190973\n",
      "dtype: int64\n",
      "----------------------------------------------------------\n",
      "Pred_1: ID X PCODE    19027\n",
      "Label         19027\n",
      "dtype: int64\n"
     ]
    }
   ],
   "source": [
    "pred = model.predict(sampled_test)\n",
    "#submission = pd.DataFrame({'ID X PCODE' : test['ID X PCODE'], 'Label':pred.index})\n",
    "submission = pd.DataFrame({'ID X PCODE':test['ID X PCODE'],'Label':pred})\n",
    "\n",
    "print('Pred_0: {}'.format(submission[submission['Label']==0].count()))\n",
    "print('----------------------------------------------------------')\n",
    "print('Pred_1: {}'.format(submission[submission['Label']==1].count()))"
   ]
  },
  {
   "cell_type": "code",
   "execution_count": 28,
   "metadata": {
    "colab": {},
    "colab_type": "code",
    "id": "p3NHZ7pl0m15"
   },
   "outputs": [],
   "source": [
    "submission.to_csv('/content/drive/My Drive/10Acad/data/submission16.csv', index=False)"
   ]
  }
 ],
 "metadata": {
  "colab": {
   "name": "zindi_lgbm.ipynb",
   "provenance": []
  },
  "kernelspec": {
   "display_name": "Python 3",
   "language": "python",
   "name": "python3"
  },
  "language_info": {
   "codemirror_mode": {
    "name": "ipython",
    "version": 3
   },
   "file_extension": ".py",
   "mimetype": "text/x-python",
   "name": "python",
   "nbconvert_exporter": "python",
   "pygments_lexer": "ipython3",
   "version": "3.7.4"
  },
  "toc": {
   "base_numbering": 1,
   "nav_menu": {},
   "number_sections": true,
   "sideBar": true,
   "skip_h1_title": false,
   "title_cell": "Table of Contents",
   "title_sidebar": "Contents",
   "toc_cell": false,
   "toc_position": {},
   "toc_section_display": true,
   "toc_window_display": false
  }
 },
 "nbformat": 4,
 "nbformat_minor": 4
}
